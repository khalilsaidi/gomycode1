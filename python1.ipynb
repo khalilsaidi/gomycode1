{
 "cells": [
  {
   "cell_type": "code",
   "execution_count": 2,
   "id": "3a7c2865",
   "metadata": {},
   "outputs": [
    {
     "name": "stdout",
     "output_type": "stream",
     "text": [
      "welcome to python world! Lets start coding\n"
     ]
    }
   ],
   "source": [
    "print(\"welcome to python world! Lets start coding\")\n"
   ]
  },
  {
   "cell_type": "code",
   "execution_count": null,
   "id": "988439c7",
   "metadata": {},
   "outputs": [],
   "source": []
  },
  {
   "cell_type": "code",
   "execution_count": null,
   "id": "09d072c8",
   "metadata": {},
   "outputs": [],
   "source": []
  }
 ],
 "metadata": {
  "kernelspec": {
   "display_name": "Python 3",
   "language": "python",
   "name": "python3"
  },
  "language_info": {
   "codemirror_mode": {
    "name": "ipython",
    "version": 3
   },
   "file_extension": ".py",
   "mimetype": "text/x-python",
   "name": "python",
   "nbconvert_exporter": "python",
   "pygments_lexer": "ipython3",
   "version": "3.8.8"
  }
 },
 "nbformat": 4,
 "nbformat_minor": 5
}
